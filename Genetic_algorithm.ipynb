{
  "cells": [
    {
      "cell_type": "code",
      "execution_count": 42,
      "metadata": {
        "id": "jGz5u5C2Ir3V"
      },
      "outputs": [],
      "source": [
        "import numpy as np\n",
        "import pandas as pd\n",
        "import random\n",
        "from itertools import combinations\n",
        "from tqdm import tqdm"
      ]
    },
    {
      "cell_type": "code",
      "source": [
        "from google.colab import drive\n",
        "drive.mount('/content/drive')"
      ],
      "metadata": {
        "colab": {
          "base_uri": "https://localhost:8080/"
        },
        "id": "A87u39Ce3Q9p",
        "outputId": "96b9f828-3ce6-4800-dda8-36cc8761a4b1"
      },
      "execution_count": 43,
      "outputs": [
        {
          "output_type": "stream",
          "name": "stdout",
          "text": [
            "Drive already mounted at /content/drive; to attempt to forcibly remount, call drive.mount(\"/content/drive\", force_remount=True).\n"
          ]
        }
      ]
    },
    {
      "cell_type": "code",
      "execution_count": 44,
      "metadata": {
        "id": "1OYUyC25JIzi"
      },
      "outputs": [],
      "source": [
        "df = pd.read_csv('/content/drive/MyDrive/Are_your_employees_burning_out/train_preprocessed.csv')"
      ]
    },
    {
      "cell_type": "code",
      "execution_count": 45,
      "metadata": {
        "colab": {
          "base_uri": "https://localhost:8080/",
          "height": 206
        },
        "id": "YkoVkgRcJQRP",
        "outputId": "d5466b66-12c0-46f1-f1e4-2b080b7330e9"
      },
      "outputs": [
        {
          "output_type": "execute_result",
          "data": {
            "text/plain": [
              "   WFH Setup Available  Designation  Resource Allocation  \\\n",
              "0                   -1          2.0                  3.0   \n",
              "1                    1          1.0                  2.0   \n",
              "2                    1          1.0                  1.0   \n",
              "3                   -1          3.0                  7.0   \n",
              "4                    1          2.0                  4.0   \n",
              "\n",
              "   Mental Fatigue Score  Burn Rate  \n",
              "0                   3.8       0.16  \n",
              "1                   5.0       0.36  \n",
              "2                   2.6       0.20  \n",
              "3                   6.9       0.52  \n",
              "4                   3.6       0.29  "
            ],
            "text/html": [
              "\n",
              "  <div id=\"df-1ada1b46-ac02-4270-9b8c-96188d5ee75e\" class=\"colab-df-container\">\n",
              "    <div>\n",
              "<style scoped>\n",
              "    .dataframe tbody tr th:only-of-type {\n",
              "        vertical-align: middle;\n",
              "    }\n",
              "\n",
              "    .dataframe tbody tr th {\n",
              "        vertical-align: top;\n",
              "    }\n",
              "\n",
              "    .dataframe thead th {\n",
              "        text-align: right;\n",
              "    }\n",
              "</style>\n",
              "<table border=\"1\" class=\"dataframe\">\n",
              "  <thead>\n",
              "    <tr style=\"text-align: right;\">\n",
              "      <th></th>\n",
              "      <th>WFH Setup Available</th>\n",
              "      <th>Designation</th>\n",
              "      <th>Resource Allocation</th>\n",
              "      <th>Mental Fatigue Score</th>\n",
              "      <th>Burn Rate</th>\n",
              "    </tr>\n",
              "  </thead>\n",
              "  <tbody>\n",
              "    <tr>\n",
              "      <th>0</th>\n",
              "      <td>-1</td>\n",
              "      <td>2.0</td>\n",
              "      <td>3.0</td>\n",
              "      <td>3.8</td>\n",
              "      <td>0.16</td>\n",
              "    </tr>\n",
              "    <tr>\n",
              "      <th>1</th>\n",
              "      <td>1</td>\n",
              "      <td>1.0</td>\n",
              "      <td>2.0</td>\n",
              "      <td>5.0</td>\n",
              "      <td>0.36</td>\n",
              "    </tr>\n",
              "    <tr>\n",
              "      <th>2</th>\n",
              "      <td>1</td>\n",
              "      <td>1.0</td>\n",
              "      <td>1.0</td>\n",
              "      <td>2.6</td>\n",
              "      <td>0.20</td>\n",
              "    </tr>\n",
              "    <tr>\n",
              "      <th>3</th>\n",
              "      <td>-1</td>\n",
              "      <td>3.0</td>\n",
              "      <td>7.0</td>\n",
              "      <td>6.9</td>\n",
              "      <td>0.52</td>\n",
              "    </tr>\n",
              "    <tr>\n",
              "      <th>4</th>\n",
              "      <td>1</td>\n",
              "      <td>2.0</td>\n",
              "      <td>4.0</td>\n",
              "      <td>3.6</td>\n",
              "      <td>0.29</td>\n",
              "    </tr>\n",
              "  </tbody>\n",
              "</table>\n",
              "</div>\n",
              "    <div class=\"colab-df-buttons\">\n",
              "\n",
              "  <div class=\"colab-df-container\">\n",
              "    <button class=\"colab-df-convert\" onclick=\"convertToInteractive('df-1ada1b46-ac02-4270-9b8c-96188d5ee75e')\"\n",
              "            title=\"Convert this dataframe to an interactive table.\"\n",
              "            style=\"display:none;\">\n",
              "\n",
              "  <svg xmlns=\"http://www.w3.org/2000/svg\" height=\"24px\" viewBox=\"0 -960 960 960\">\n",
              "    <path d=\"M120-120v-720h720v720H120Zm60-500h600v-160H180v160Zm220 220h160v-160H400v160Zm0 220h160v-160H400v160ZM180-400h160v-160H180v160Zm440 0h160v-160H620v160ZM180-180h160v-160H180v160Zm440 0h160v-160H620v160Z\"/>\n",
              "  </svg>\n",
              "    </button>\n",
              "\n",
              "  <style>\n",
              "    .colab-df-container {\n",
              "      display:flex;\n",
              "      gap: 12px;\n",
              "    }\n",
              "\n",
              "    .colab-df-convert {\n",
              "      background-color: #E8F0FE;\n",
              "      border: none;\n",
              "      border-radius: 50%;\n",
              "      cursor: pointer;\n",
              "      display: none;\n",
              "      fill: #1967D2;\n",
              "      height: 32px;\n",
              "      padding: 0 0 0 0;\n",
              "      width: 32px;\n",
              "    }\n",
              "\n",
              "    .colab-df-convert:hover {\n",
              "      background-color: #E2EBFA;\n",
              "      box-shadow: 0px 1px 2px rgba(60, 64, 67, 0.3), 0px 1px 3px 1px rgba(60, 64, 67, 0.15);\n",
              "      fill: #174EA6;\n",
              "    }\n",
              "\n",
              "    .colab-df-buttons div {\n",
              "      margin-bottom: 4px;\n",
              "    }\n",
              "\n",
              "    [theme=dark] .colab-df-convert {\n",
              "      background-color: #3B4455;\n",
              "      fill: #D2E3FC;\n",
              "    }\n",
              "\n",
              "    [theme=dark] .colab-df-convert:hover {\n",
              "      background-color: #434B5C;\n",
              "      box-shadow: 0px 1px 3px 1px rgba(0, 0, 0, 0.15);\n",
              "      filter: drop-shadow(0px 1px 2px rgba(0, 0, 0, 0.3));\n",
              "      fill: #FFFFFF;\n",
              "    }\n",
              "  </style>\n",
              "\n",
              "    <script>\n",
              "      const buttonEl =\n",
              "        document.querySelector('#df-1ada1b46-ac02-4270-9b8c-96188d5ee75e button.colab-df-convert');\n",
              "      buttonEl.style.display =\n",
              "        google.colab.kernel.accessAllowed ? 'block' : 'none';\n",
              "\n",
              "      async function convertToInteractive(key) {\n",
              "        const element = document.querySelector('#df-1ada1b46-ac02-4270-9b8c-96188d5ee75e');\n",
              "        const dataTable =\n",
              "          await google.colab.kernel.invokeFunction('convertToInteractive',\n",
              "                                                    [key], {});\n",
              "        if (!dataTable) return;\n",
              "\n",
              "        const docLinkHtml = 'Like what you see? Visit the ' +\n",
              "          '<a target=\"_blank\" href=https://colab.research.google.com/notebooks/data_table.ipynb>data table notebook</a>'\n",
              "          + ' to learn more about interactive tables.';\n",
              "        element.innerHTML = '';\n",
              "        dataTable['output_type'] = 'display_data';\n",
              "        await google.colab.output.renderOutput(dataTable, element);\n",
              "        const docLink = document.createElement('div');\n",
              "        docLink.innerHTML = docLinkHtml;\n",
              "        element.appendChild(docLink);\n",
              "      }\n",
              "    </script>\n",
              "  </div>\n",
              "\n",
              "\n",
              "<div id=\"df-0b82881a-54bd-41a1-bfce-5e75f6e60781\">\n",
              "  <button class=\"colab-df-quickchart\" onclick=\"quickchart('df-0b82881a-54bd-41a1-bfce-5e75f6e60781')\"\n",
              "            title=\"Suggest charts\"\n",
              "            style=\"display:none;\">\n",
              "\n",
              "<svg xmlns=\"http://www.w3.org/2000/svg\" height=\"24px\"viewBox=\"0 0 24 24\"\n",
              "     width=\"24px\">\n",
              "    <g>\n",
              "        <path d=\"M19 3H5c-1.1 0-2 .9-2 2v14c0 1.1.9 2 2 2h14c1.1 0 2-.9 2-2V5c0-1.1-.9-2-2-2zM9 17H7v-7h2v7zm4 0h-2V7h2v10zm4 0h-2v-4h2v4z\"/>\n",
              "    </g>\n",
              "</svg>\n",
              "  </button>\n",
              "\n",
              "<style>\n",
              "  .colab-df-quickchart {\n",
              "      --bg-color: #E8F0FE;\n",
              "      --fill-color: #1967D2;\n",
              "      --hover-bg-color: #E2EBFA;\n",
              "      --hover-fill-color: #174EA6;\n",
              "      --disabled-fill-color: #AAA;\n",
              "      --disabled-bg-color: #DDD;\n",
              "  }\n",
              "\n",
              "  [theme=dark] .colab-df-quickchart {\n",
              "      --bg-color: #3B4455;\n",
              "      --fill-color: #D2E3FC;\n",
              "      --hover-bg-color: #434B5C;\n",
              "      --hover-fill-color: #FFFFFF;\n",
              "      --disabled-bg-color: #3B4455;\n",
              "      --disabled-fill-color: #666;\n",
              "  }\n",
              "\n",
              "  .colab-df-quickchart {\n",
              "    background-color: var(--bg-color);\n",
              "    border: none;\n",
              "    border-radius: 50%;\n",
              "    cursor: pointer;\n",
              "    display: none;\n",
              "    fill: var(--fill-color);\n",
              "    height: 32px;\n",
              "    padding: 0;\n",
              "    width: 32px;\n",
              "  }\n",
              "\n",
              "  .colab-df-quickchart:hover {\n",
              "    background-color: var(--hover-bg-color);\n",
              "    box-shadow: 0 1px 2px rgba(60, 64, 67, 0.3), 0 1px 3px 1px rgba(60, 64, 67, 0.15);\n",
              "    fill: var(--button-hover-fill-color);\n",
              "  }\n",
              "\n",
              "  .colab-df-quickchart-complete:disabled,\n",
              "  .colab-df-quickchart-complete:disabled:hover {\n",
              "    background-color: var(--disabled-bg-color);\n",
              "    fill: var(--disabled-fill-color);\n",
              "    box-shadow: none;\n",
              "  }\n",
              "\n",
              "  .colab-df-spinner {\n",
              "    border: 2px solid var(--fill-color);\n",
              "    border-color: transparent;\n",
              "    border-bottom-color: var(--fill-color);\n",
              "    animation:\n",
              "      spin 1s steps(1) infinite;\n",
              "  }\n",
              "\n",
              "  @keyframes spin {\n",
              "    0% {\n",
              "      border-color: transparent;\n",
              "      border-bottom-color: var(--fill-color);\n",
              "      border-left-color: var(--fill-color);\n",
              "    }\n",
              "    20% {\n",
              "      border-color: transparent;\n",
              "      border-left-color: var(--fill-color);\n",
              "      border-top-color: var(--fill-color);\n",
              "    }\n",
              "    30% {\n",
              "      border-color: transparent;\n",
              "      border-left-color: var(--fill-color);\n",
              "      border-top-color: var(--fill-color);\n",
              "      border-right-color: var(--fill-color);\n",
              "    }\n",
              "    40% {\n",
              "      border-color: transparent;\n",
              "      border-right-color: var(--fill-color);\n",
              "      border-top-color: var(--fill-color);\n",
              "    }\n",
              "    60% {\n",
              "      border-color: transparent;\n",
              "      border-right-color: var(--fill-color);\n",
              "    }\n",
              "    80% {\n",
              "      border-color: transparent;\n",
              "      border-right-color: var(--fill-color);\n",
              "      border-bottom-color: var(--fill-color);\n",
              "    }\n",
              "    90% {\n",
              "      border-color: transparent;\n",
              "      border-bottom-color: var(--fill-color);\n",
              "    }\n",
              "  }\n",
              "</style>\n",
              "\n",
              "  <script>\n",
              "    async function quickchart(key) {\n",
              "      const quickchartButtonEl =\n",
              "        document.querySelector('#' + key + ' button');\n",
              "      quickchartButtonEl.disabled = true;  // To prevent multiple clicks.\n",
              "      quickchartButtonEl.classList.add('colab-df-spinner');\n",
              "      try {\n",
              "        const charts = await google.colab.kernel.invokeFunction(\n",
              "            'suggestCharts', [key], {});\n",
              "      } catch (error) {\n",
              "        console.error('Error during call to suggestCharts:', error);\n",
              "      }\n",
              "      quickchartButtonEl.classList.remove('colab-df-spinner');\n",
              "      quickchartButtonEl.classList.add('colab-df-quickchart-complete');\n",
              "    }\n",
              "    (() => {\n",
              "      let quickchartButtonEl =\n",
              "        document.querySelector('#df-0b82881a-54bd-41a1-bfce-5e75f6e60781 button');\n",
              "      quickchartButtonEl.style.display =\n",
              "        google.colab.kernel.accessAllowed ? 'block' : 'none';\n",
              "    })();\n",
              "  </script>\n",
              "</div>\n",
              "    </div>\n",
              "  </div>\n"
            ]
          },
          "metadata": {},
          "execution_count": 45
        }
      ],
      "source": [
        "df.head()"
      ]
    },
    {
      "cell_type": "code",
      "execution_count": 46,
      "metadata": {
        "id": "2cPz_lmfMsVt"
      },
      "outputs": [],
      "source": [
        "#This will be changed back to -1 when calculating the fitness value.\n",
        "df['WFH Setup Available'] = df['WFH Setup Available'].map({-1:0, 1:1})"
      ]
    },
    {
      "cell_type": "code",
      "execution_count": 47,
      "metadata": {
        "colab": {
          "base_uri": "https://localhost:8080/",
          "height": 206
        },
        "id": "rgcytxTSUoDc",
        "outputId": "fd64c2ab-6ca5-41e4-88b2-e22607d6ff35"
      },
      "outputs": [
        {
          "output_type": "execute_result",
          "data": {
            "text/plain": [
              "   WFH Setup Available  Designation  Resource Allocation  \\\n",
              "0                    0          2.0                  3.0   \n",
              "1                    1          1.0                  2.0   \n",
              "2                    1          1.0                  1.0   \n",
              "3                    0          3.0                  7.0   \n",
              "4                    1          2.0                  4.0   \n",
              "\n",
              "   Mental Fatigue Score  Burn Rate  \n",
              "0                   3.8       0.16  \n",
              "1                   5.0       0.36  \n",
              "2                   2.6       0.20  \n",
              "3                   6.9       0.52  \n",
              "4                   3.6       0.29  "
            ],
            "text/html": [
              "\n",
              "  <div id=\"df-8ca22b09-7bbf-4504-b4f0-93a5df0c9e7f\" class=\"colab-df-container\">\n",
              "    <div>\n",
              "<style scoped>\n",
              "    .dataframe tbody tr th:only-of-type {\n",
              "        vertical-align: middle;\n",
              "    }\n",
              "\n",
              "    .dataframe tbody tr th {\n",
              "        vertical-align: top;\n",
              "    }\n",
              "\n",
              "    .dataframe thead th {\n",
              "        text-align: right;\n",
              "    }\n",
              "</style>\n",
              "<table border=\"1\" class=\"dataframe\">\n",
              "  <thead>\n",
              "    <tr style=\"text-align: right;\">\n",
              "      <th></th>\n",
              "      <th>WFH Setup Available</th>\n",
              "      <th>Designation</th>\n",
              "      <th>Resource Allocation</th>\n",
              "      <th>Mental Fatigue Score</th>\n",
              "      <th>Burn Rate</th>\n",
              "    </tr>\n",
              "  </thead>\n",
              "  <tbody>\n",
              "    <tr>\n",
              "      <th>0</th>\n",
              "      <td>0</td>\n",
              "      <td>2.0</td>\n",
              "      <td>3.0</td>\n",
              "      <td>3.8</td>\n",
              "      <td>0.16</td>\n",
              "    </tr>\n",
              "    <tr>\n",
              "      <th>1</th>\n",
              "      <td>1</td>\n",
              "      <td>1.0</td>\n",
              "      <td>2.0</td>\n",
              "      <td>5.0</td>\n",
              "      <td>0.36</td>\n",
              "    </tr>\n",
              "    <tr>\n",
              "      <th>2</th>\n",
              "      <td>1</td>\n",
              "      <td>1.0</td>\n",
              "      <td>1.0</td>\n",
              "      <td>2.6</td>\n",
              "      <td>0.20</td>\n",
              "    </tr>\n",
              "    <tr>\n",
              "      <th>3</th>\n",
              "      <td>0</td>\n",
              "      <td>3.0</td>\n",
              "      <td>7.0</td>\n",
              "      <td>6.9</td>\n",
              "      <td>0.52</td>\n",
              "    </tr>\n",
              "    <tr>\n",
              "      <th>4</th>\n",
              "      <td>1</td>\n",
              "      <td>2.0</td>\n",
              "      <td>4.0</td>\n",
              "      <td>3.6</td>\n",
              "      <td>0.29</td>\n",
              "    </tr>\n",
              "  </tbody>\n",
              "</table>\n",
              "</div>\n",
              "    <div class=\"colab-df-buttons\">\n",
              "\n",
              "  <div class=\"colab-df-container\">\n",
              "    <button class=\"colab-df-convert\" onclick=\"convertToInteractive('df-8ca22b09-7bbf-4504-b4f0-93a5df0c9e7f')\"\n",
              "            title=\"Convert this dataframe to an interactive table.\"\n",
              "            style=\"display:none;\">\n",
              "\n",
              "  <svg xmlns=\"http://www.w3.org/2000/svg\" height=\"24px\" viewBox=\"0 -960 960 960\">\n",
              "    <path d=\"M120-120v-720h720v720H120Zm60-500h600v-160H180v160Zm220 220h160v-160H400v160Zm0 220h160v-160H400v160ZM180-400h160v-160H180v160Zm440 0h160v-160H620v160ZM180-180h160v-160H180v160Zm440 0h160v-160H620v160Z\"/>\n",
              "  </svg>\n",
              "    </button>\n",
              "\n",
              "  <style>\n",
              "    .colab-df-container {\n",
              "      display:flex;\n",
              "      gap: 12px;\n",
              "    }\n",
              "\n",
              "    .colab-df-convert {\n",
              "      background-color: #E8F0FE;\n",
              "      border: none;\n",
              "      border-radius: 50%;\n",
              "      cursor: pointer;\n",
              "      display: none;\n",
              "      fill: #1967D2;\n",
              "      height: 32px;\n",
              "      padding: 0 0 0 0;\n",
              "      width: 32px;\n",
              "    }\n",
              "\n",
              "    .colab-df-convert:hover {\n",
              "      background-color: #E2EBFA;\n",
              "      box-shadow: 0px 1px 2px rgba(60, 64, 67, 0.3), 0px 1px 3px 1px rgba(60, 64, 67, 0.15);\n",
              "      fill: #174EA6;\n",
              "    }\n",
              "\n",
              "    .colab-df-buttons div {\n",
              "      margin-bottom: 4px;\n",
              "    }\n",
              "\n",
              "    [theme=dark] .colab-df-convert {\n",
              "      background-color: #3B4455;\n",
              "      fill: #D2E3FC;\n",
              "    }\n",
              "\n",
              "    [theme=dark] .colab-df-convert:hover {\n",
              "      background-color: #434B5C;\n",
              "      box-shadow: 0px 1px 3px 1px rgba(0, 0, 0, 0.15);\n",
              "      filter: drop-shadow(0px 1px 2px rgba(0, 0, 0, 0.3));\n",
              "      fill: #FFFFFF;\n",
              "    }\n",
              "  </style>\n",
              "\n",
              "    <script>\n",
              "      const buttonEl =\n",
              "        document.querySelector('#df-8ca22b09-7bbf-4504-b4f0-93a5df0c9e7f button.colab-df-convert');\n",
              "      buttonEl.style.display =\n",
              "        google.colab.kernel.accessAllowed ? 'block' : 'none';\n",
              "\n",
              "      async function convertToInteractive(key) {\n",
              "        const element = document.querySelector('#df-8ca22b09-7bbf-4504-b4f0-93a5df0c9e7f');\n",
              "        const dataTable =\n",
              "          await google.colab.kernel.invokeFunction('convertToInteractive',\n",
              "                                                    [key], {});\n",
              "        if (!dataTable) return;\n",
              "\n",
              "        const docLinkHtml = 'Like what you see? Visit the ' +\n",
              "          '<a target=\"_blank\" href=https://colab.research.google.com/notebooks/data_table.ipynb>data table notebook</a>'\n",
              "          + ' to learn more about interactive tables.';\n",
              "        element.innerHTML = '';\n",
              "        dataTable['output_type'] = 'display_data';\n",
              "        await google.colab.output.renderOutput(dataTable, element);\n",
              "        const docLink = document.createElement('div');\n",
              "        docLink.innerHTML = docLinkHtml;\n",
              "        element.appendChild(docLink);\n",
              "      }\n",
              "    </script>\n",
              "  </div>\n",
              "\n",
              "\n",
              "<div id=\"df-6ecd9047-fe0a-4631-93b4-5f6fd2f63088\">\n",
              "  <button class=\"colab-df-quickchart\" onclick=\"quickchart('df-6ecd9047-fe0a-4631-93b4-5f6fd2f63088')\"\n",
              "            title=\"Suggest charts\"\n",
              "            style=\"display:none;\">\n",
              "\n",
              "<svg xmlns=\"http://www.w3.org/2000/svg\" height=\"24px\"viewBox=\"0 0 24 24\"\n",
              "     width=\"24px\">\n",
              "    <g>\n",
              "        <path d=\"M19 3H5c-1.1 0-2 .9-2 2v14c0 1.1.9 2 2 2h14c1.1 0 2-.9 2-2V5c0-1.1-.9-2-2-2zM9 17H7v-7h2v7zm4 0h-2V7h2v10zm4 0h-2v-4h2v4z\"/>\n",
              "    </g>\n",
              "</svg>\n",
              "  </button>\n",
              "\n",
              "<style>\n",
              "  .colab-df-quickchart {\n",
              "      --bg-color: #E8F0FE;\n",
              "      --fill-color: #1967D2;\n",
              "      --hover-bg-color: #E2EBFA;\n",
              "      --hover-fill-color: #174EA6;\n",
              "      --disabled-fill-color: #AAA;\n",
              "      --disabled-bg-color: #DDD;\n",
              "  }\n",
              "\n",
              "  [theme=dark] .colab-df-quickchart {\n",
              "      --bg-color: #3B4455;\n",
              "      --fill-color: #D2E3FC;\n",
              "      --hover-bg-color: #434B5C;\n",
              "      --hover-fill-color: #FFFFFF;\n",
              "      --disabled-bg-color: #3B4455;\n",
              "      --disabled-fill-color: #666;\n",
              "  }\n",
              "\n",
              "  .colab-df-quickchart {\n",
              "    background-color: var(--bg-color);\n",
              "    border: none;\n",
              "    border-radius: 50%;\n",
              "    cursor: pointer;\n",
              "    display: none;\n",
              "    fill: var(--fill-color);\n",
              "    height: 32px;\n",
              "    padding: 0;\n",
              "    width: 32px;\n",
              "  }\n",
              "\n",
              "  .colab-df-quickchart:hover {\n",
              "    background-color: var(--hover-bg-color);\n",
              "    box-shadow: 0 1px 2px rgba(60, 64, 67, 0.3), 0 1px 3px 1px rgba(60, 64, 67, 0.15);\n",
              "    fill: var(--button-hover-fill-color);\n",
              "  }\n",
              "\n",
              "  .colab-df-quickchart-complete:disabled,\n",
              "  .colab-df-quickchart-complete:disabled:hover {\n",
              "    background-color: var(--disabled-bg-color);\n",
              "    fill: var(--disabled-fill-color);\n",
              "    box-shadow: none;\n",
              "  }\n",
              "\n",
              "  .colab-df-spinner {\n",
              "    border: 2px solid var(--fill-color);\n",
              "    border-color: transparent;\n",
              "    border-bottom-color: var(--fill-color);\n",
              "    animation:\n",
              "      spin 1s steps(1) infinite;\n",
              "  }\n",
              "\n",
              "  @keyframes spin {\n",
              "    0% {\n",
              "      border-color: transparent;\n",
              "      border-bottom-color: var(--fill-color);\n",
              "      border-left-color: var(--fill-color);\n",
              "    }\n",
              "    20% {\n",
              "      border-color: transparent;\n",
              "      border-left-color: var(--fill-color);\n",
              "      border-top-color: var(--fill-color);\n",
              "    }\n",
              "    30% {\n",
              "      border-color: transparent;\n",
              "      border-left-color: var(--fill-color);\n",
              "      border-top-color: var(--fill-color);\n",
              "      border-right-color: var(--fill-color);\n",
              "    }\n",
              "    40% {\n",
              "      border-color: transparent;\n",
              "      border-right-color: var(--fill-color);\n",
              "      border-top-color: var(--fill-color);\n",
              "    }\n",
              "    60% {\n",
              "      border-color: transparent;\n",
              "      border-right-color: var(--fill-color);\n",
              "    }\n",
              "    80% {\n",
              "      border-color: transparent;\n",
              "      border-right-color: var(--fill-color);\n",
              "      border-bottom-color: var(--fill-color);\n",
              "    }\n",
              "    90% {\n",
              "      border-color: transparent;\n",
              "      border-bottom-color: var(--fill-color);\n",
              "    }\n",
              "  }\n",
              "</style>\n",
              "\n",
              "  <script>\n",
              "    async function quickchart(key) {\n",
              "      const quickchartButtonEl =\n",
              "        document.querySelector('#' + key + ' button');\n",
              "      quickchartButtonEl.disabled = true;  // To prevent multiple clicks.\n",
              "      quickchartButtonEl.classList.add('colab-df-spinner');\n",
              "      try {\n",
              "        const charts = await google.colab.kernel.invokeFunction(\n",
              "            'suggestCharts', [key], {});\n",
              "      } catch (error) {\n",
              "        console.error('Error during call to suggestCharts:', error);\n",
              "      }\n",
              "      quickchartButtonEl.classList.remove('colab-df-spinner');\n",
              "      quickchartButtonEl.classList.add('colab-df-quickchart-complete');\n",
              "    }\n",
              "    (() => {\n",
              "      let quickchartButtonEl =\n",
              "        document.querySelector('#df-6ecd9047-fe0a-4631-93b4-5f6fd2f63088 button');\n",
              "      quickchartButtonEl.style.display =\n",
              "        google.colab.kernel.accessAllowed ? 'block' : 'none';\n",
              "    })();\n",
              "  </script>\n",
              "</div>\n",
              "    </div>\n",
              "  </div>\n"
            ]
          },
          "metadata": {},
          "execution_count": 47
        }
      ],
      "source": [
        "df.head()"
      ]
    },
    {
      "cell_type": "code",
      "source": [
        "df.duplicated().sum()"
      ],
      "metadata": {
        "colab": {
          "base_uri": "https://localhost:8080/"
        },
        "id": "nyD1XjAJjXuW",
        "outputId": "3b28a102-5ecd-429b-86b8-b696a21a15c2"
      },
      "execution_count": 48,
      "outputs": [
        {
          "output_type": "execute_result",
          "data": {
            "text/plain": [
              "6332"
            ]
          },
          "metadata": {},
          "execution_count": 48
        }
      ]
    },
    {
      "cell_type": "code",
      "source": [
        "df.drop_duplicates(inplace=True)"
      ],
      "metadata": {
        "id": "NmYEXNvPjo5n"
      },
      "execution_count": 49,
      "outputs": []
    },
    {
      "cell_type": "code",
      "execution_count": 50,
      "metadata": {
        "id": "jXEDP2QCKZOD"
      },
      "outputs": [],
      "source": [
        "df = df.drop(['Burn Rate'], axis = 1)"
      ]
    },
    {
      "cell_type": "code",
      "execution_count": 51,
      "metadata": {
        "id": "3_MhD6dNJTy1"
      },
      "outputs": [],
      "source": [
        "df_des_0 = df[df['Designation'] == 0.0]\n",
        "df_des_1 = df[df['Designation'] == 1.0]\n",
        "df_des_2 = df[df['Designation'] == 2.0]\n",
        "df_des_3 = df[df['Designation'] == 3.0]\n",
        "df_des_4 = df[df['Designation'] == 4.0]\n",
        "df_des_5 = df[df['Designation'] == 5.0]"
      ]
    },
    {
      "cell_type": "code",
      "execution_count": 52,
      "metadata": {
        "id": "a61CsK2LKUYr"
      },
      "outputs": [],
      "source": [
        "df_des_0 = df_des_0.drop(['Designation'], axis = 1)\n",
        "df_des_1 = df_des_1.drop(['Designation'], axis = 1)\n",
        "df_des_2 = df_des_2.drop(['Designation'], axis = 1)\n",
        "df_des_3 = df_des_3.drop(['Designation'], axis = 1)\n",
        "df_des_4 = df_des_4.drop(['Designation'], axis = 1)\n",
        "df_des_5 = df_des_5.drop(['Designation'], axis = 1)"
      ]
    },
    {
      "cell_type": "code",
      "execution_count": 53,
      "metadata": {
        "id": "uYM75QUh2lzx"
      },
      "outputs": [],
      "source": [
        "des_list = [df_des_0, df_des_1, df_des_2, df_des_3, df_des_4, df_des_5]"
      ]
    },
    {
      "cell_type": "code",
      "execution_count": 54,
      "metadata": {
        "id": "7rb9Al2Z2lzy"
      },
      "outputs": [],
      "source": [
        "def select_designation(des_num, no_of_samples):\n",
        "    des_list = [df_des_0, df_des_1, df_des_2, df_des_3, df_des_4, df_des_5]\n",
        "    return des_list[des_num].sample(n=no_of_samples).to_numpy()"
      ]
    },
    {
      "cell_type": "code",
      "execution_count": 55,
      "metadata": {
        "id": "UIzgBZ_VJmMR"
      },
      "outputs": [],
      "source": [
        "parent_population = df_des_3.sample(n=10).to_numpy()"
      ]
    },
    {
      "cell_type": "code",
      "execution_count": 56,
      "metadata": {
        "id": "ExXhlzrF2lzy"
      },
      "outputs": [],
      "source": [
        "sum_hours = sum([x[1] for x in parent_population])"
      ]
    },
    {
      "cell_type": "code",
      "execution_count": 57,
      "metadata": {
        "id": "lsxKGB-UMZhp"
      },
      "outputs": [],
      "source": [
        "def float_to_binary(value, integer_bits, decimal_bits):\n",
        "    # Convert the floating-point number to binary\n",
        "    integer_part = int(value)\n",
        "    decimal_part = value - integer_part\n",
        "\n",
        "    # Convert the integer part to binary with the specified number of bits\n",
        "    integer_representation = bin(integer_part)[2:].zfill(integer_bits)\n",
        "\n",
        "    # Convert the decimal part to binary with the specified number of bits\n",
        "    decimal_representation = ''\n",
        "    for _ in range(decimal_bits):\n",
        "        decimal_part *= 2\n",
        "        if decimal_part >= 1:\n",
        "            decimal_representation += '1'\n",
        "            decimal_part -= 1\n",
        "        else:\n",
        "            decimal_representation += '0'\n",
        "    binary_representation = str(integer_representation) + str(decimal_representation)\n",
        "\n",
        "    # Combine the integer and decimal parts\n",
        "\n",
        "    return binary_representation"
      ]
    },
    {
      "cell_type": "code",
      "execution_count": 58,
      "metadata": {
        "id": "vpzXiCSHXnvb"
      },
      "outputs": [],
      "source": [
        "def binary_to_float(binary_record):\n",
        "\n",
        "    wfh_status = binary_record[0]\n",
        "    hours_allocated = binary_record[1:5]\n",
        "    fatigue_score = binary_record[5:]\n",
        "\n",
        "    #decoding wfh status to original scenario.\n",
        "    if wfh_status == 0:\n",
        "      wfh_status = -1\n",
        "\n",
        "    #decoding hours allocated\n",
        "    hours_allocated =  int(\"\".join(map(str, hours_allocated)), 2)\n",
        "\n",
        "    #for fatigue score decoding\n",
        "    whole_number_bits = fatigue_score[:-4]\n",
        "    real_value_bits = fatigue_score[-4:]\n",
        "\n",
        "    whole_number = int(\"\".join(map(str, whole_number_bits)), 2)\n",
        "    real_value = sum(bit * 2**(-i-1) for i, bit in enumerate(real_value_bits))\n",
        "\n",
        "    fatigue_score = whole_number + real_value\n",
        "\n",
        "    decimal_record = [wfh_status, hours_allocated, fatigue_score]\n",
        "\n",
        "    return decimal_record"
      ]
    },
    {
      "cell_type": "code",
      "execution_count": 59,
      "metadata": {
        "id": "HRJ0bdYLKS2Q"
      },
      "outputs": [],
      "source": [
        "def pop_to_binary(population):\n",
        "  binary_population = []\n",
        "  for record in population:\n",
        "    binary_representations = float_to_binary(record[0], 1, 0) + float_to_binary(record[1], 4, 0) + float_to_binary(record[2], 4, 4)\n",
        "    binary_population.append(binary_representations)\n",
        "\n",
        "  binary_2d_array = [[int(digit) for digit in binary_str] for binary_str in binary_population]\n",
        "\n",
        "  return binary_2d_array"
      ]
    },
    {
      "cell_type": "code",
      "execution_count": 60,
      "metadata": {
        "id": "DNo1GTWa2lzz"
      },
      "outputs": [],
      "source": [
        "def pop_to_float(binary_population):\n",
        "    unfiltered_pool = []\n",
        "\n",
        "    for i in binary_population:\n",
        "        unfiltered_pool.append(binary_to_float(i))\n",
        "\n",
        "    return unfiltered_pool"
      ]
    },
    {
      "cell_type": "code",
      "source": [
        "def individual_fitness_score(feature_weights, record):\n",
        "\n",
        "  wfh_val = feature_weights[0] * record[0]\n",
        "  hours_allocated_val = feature_weights[1] * record[1]\n",
        "  fatigue_val = feature_weights[2] * record[2]\n",
        "  bias = feature_weights[3]\n",
        "\n",
        "  fitness_val = wfh_val + hours_allocated_val + fatigue_val + bias\n",
        "\n",
        "  return fitness_val"
      ],
      "metadata": {
        "id": "Haa7fTUSY4-V"
      },
      "execution_count": 61,
      "outputs": []
    },
    {
      "cell_type": "code",
      "execution_count": 62,
      "metadata": {
        "id": "XvRBQh26fPIY"
      },
      "outputs": [],
      "source": [
        "def cal_fitness_score(feature_weights, population):\n",
        "  scores = []\n",
        "  for record in population:\n",
        "    decimal_record = binary_to_float(record)\n",
        "\n",
        "    wfh_val = feature_weights[0] * decimal_record[0]\n",
        "    hours_allocated_val = feature_weights[1] * decimal_record[1]\n",
        "    fatigue_val = feature_weights[2] * decimal_record[2]\n",
        "    bias = feature_weights[3]\n",
        "\n",
        "    fitness_val = wfh_val + hours_allocated_val + fatigue_val + bias\n",
        "    scores.append(fitness_val)\n",
        "  scores_scaled = [1 if x > 1 else x for x in scores]\n",
        "  scores_scaled = [0 if x < 0 else x for x in scores]\n",
        "\n",
        "  return scores_scaled"
      ]
    },
    {
      "cell_type": "code",
      "execution_count": 63,
      "metadata": {
        "id": "NC1iXeRFjVPu"
      },
      "outputs": [],
      "source": [
        "def tournament_selection(population, scores, num_selected):\n",
        "\n",
        "  population_copy = population.copy()\n",
        "  scores_copy = scores.copy()\n",
        "\n",
        "  selected_individuals = []\n",
        "  selected_individual_score = []\n",
        "\n",
        "  while len(selected_individuals) < num_selected:\n",
        "      # print(len(population_copy))\n",
        "\n",
        "      if len(population) < 2:\n",
        "          break\n",
        "\n",
        "      group_indices = random.sample(range(len(population_copy)), 2)\n",
        "      group = [(population_copy[i], scores_copy[i]) for i in group_indices]\n",
        "\n",
        "      # Get the best individual from the group based on fitness scores\n",
        "      winner = max(group, key=lambda x: x[1])[0]\n",
        "      winner_score = max(group, key=lambda x: x[1])[1]\n",
        "\n",
        "      selected_individuals.append(winner)\n",
        "      selected_individual_score.append(winner_score)\n",
        "\n",
        "      # remove the selected individual from the population and fitness scores\n",
        "      index_to_remove = group_indices[group.index((winner, max(group, key=lambda x: x[1])[1]))]\n",
        "      population_copy.pop(index_to_remove)\n",
        "      scores_copy.pop(index_to_remove)\n",
        "\n",
        "  return selected_individuals, selected_individual_score"
      ]
    },
    {
      "cell_type": "code",
      "execution_count": 64,
      "metadata": {
        "id": "5gbZmm2qpzIM"
      },
      "outputs": [],
      "source": [
        "def roulette_wheel_select(population, scores, num_selected):\n",
        "  total_fitness = sum(scores)\n",
        "  selection_probabilities = [score / total_fitness for score in scores]\n",
        "\n",
        "  selected_pairs = []\n",
        "\n",
        "  for _ in range(num_selected):\n",
        "      # Spin the roulette wheel to select two individuals\n",
        "      selected_individuals = []\n",
        "      for _ in range(2):\n",
        "          rand_value = random.random()\n",
        "          cumulative_prob = 0\n",
        "\n",
        "          for i, prob in enumerate(selection_probabilities):\n",
        "              cumulative_prob += prob\n",
        "              if rand_value <= cumulative_prob:\n",
        "                  selected_individuals.append(population[i])\n",
        "                  break\n",
        "\n",
        "      selected_pairs.append(selected_individuals)\n",
        "\n",
        "  return selected_pairs"
      ]
    },
    {
      "cell_type": "code",
      "execution_count": 65,
      "metadata": {
        "id": "PL4eE6pf9YSZ"
      },
      "outputs": [],
      "source": [
        "def constraints(record, feature_weights, selected_pool):\n",
        "  record = binary_to_float(record)\n",
        "  score = individual_fitness_score(feature_weights, record)\n",
        "  if (record[0] == -1) or (record[0] == 1):\n",
        "      if (record[1] > 0) and (record[1] <= 10):\n",
        "          if (record[2] >= 0) and (record[2] <= 10):\n",
        "            if (score > 0) and (score < 1):\n",
        "              if record not in selected_pool:\n",
        "                return True\n",
        "\n",
        "  return False"
      ]
    },
    {
      "cell_type": "code",
      "execution_count": 66,
      "metadata": {
        "id": "-SvKIIiMrnEE"
      },
      "outputs": [],
      "source": [
        "def crossover(selected_pool, selected_pool_scores, num_points, num_offsprings, feature_weights):\n",
        "  offspring_count = 0\n",
        "  offspring_pool = []\n",
        "  while (offspring_count < num_offsprings):\n",
        "    mating_pairs = roulette_wheel_select(selected_pool, selected_pool_scores, 1)\n",
        "    parent1 = mating_pairs[0][0]\n",
        "    parent2 = mating_pairs[0][1]\n",
        "\n",
        "    crossover_points = sorted(np.random.choice(len(parent1), num_points, replace=False))\n",
        "    offspring = parent1.copy()\n",
        "\n",
        "    for i in range(len(crossover_points) - 1):\n",
        "        if i % 2 == 1:\n",
        "            offspring[crossover_points[i]:crossover_points[i+1]] = parent2[crossover_points[i]:crossover_points[i+1]]\n",
        "\n",
        "    float_selected_pool = pop_to_float(selected_pool)\n",
        "    offspring_validity = constraints(offspring, feature_weights, float_selected_pool)\n",
        "\n",
        "    if offspring_validity == False:\n",
        "      continue\n",
        "\n",
        "    offspring_count += 1\n",
        "    offspring_pool.append(offspring)\n",
        "\n",
        "  return offspring_pool"
      ]
    },
    {
      "cell_type": "code",
      "execution_count": 67,
      "metadata": {
        "id": "-X9NHuyRwW-s"
      },
      "outputs": [],
      "source": [
        "def mutate(selected_pool, num_points, feature_weights):\n",
        "  valid = False\n",
        "  mutated_pool = []\n",
        "  for individual in selected_pool:\n",
        "    valid = False\n",
        "    while valid == False:\n",
        "      mutated_individual = individual.copy()\n",
        "      mutation_points = np.random.choice(len(mutated_individual), num_points, replace=False)\n",
        "      # print(mutated_individual)\n",
        "\n",
        "      for point in mutation_points:\n",
        "        mutated_individual[point] = 1 - mutated_individual[point]\n",
        "\n",
        "      #print(mutated_individual)\n",
        "      valid = constraints(mutated_individual, feature_weights, pop_to_float(selected_pool))\n",
        "    mutated_pool.append(mutated_individual)\n",
        "\n",
        "  return mutated_pool"
      ]
    },
    {
      "cell_type": "code",
      "execution_count": 68,
      "metadata": {
        "id": "e7zdwJrtTRzN"
      },
      "outputs": [],
      "source": [
        "binary_population = pop_to_binary(parent_population)"
      ]
    },
    {
      "cell_type": "code",
      "execution_count": 69,
      "metadata": {
        "colab": {
          "base_uri": "https://localhost:8080/"
        },
        "id": "w92RRnQzMZ-M",
        "outputId": "2e6d52af-934c-44c3-e5a6-f7e2e54e2c20"
      },
      "outputs": [
        {
          "output_type": "execute_result",
          "data": {
            "text/plain": [
              "[[0, 0, 1, 0, 1, 0, 1, 0, 1, 0, 0, 0, 1],\n",
              " [1, 0, 1, 1, 0, 1, 0, 0, 0, 1, 0, 0, 0],\n",
              " [1, 0, 1, 0, 0, 0, 1, 0, 1, 1, 0, 0, 0],\n",
              " [0, 0, 1, 1, 0, 0, 1, 1, 1, 0, 0, 1, 1],\n",
              " [0, 0, 1, 0, 1, 1, 0, 0, 0, 0, 0, 1, 1],\n",
              " [1, 0, 1, 0, 1, 0, 1, 0, 0, 1, 1, 1, 0],\n",
              " [0, 0, 1, 1, 0, 0, 1, 0, 1, 0, 1, 1, 0],\n",
              " [0, 0, 1, 1, 1, 1, 0, 0, 0, 0, 1, 0, 0],\n",
              " [1, 0, 1, 1, 1, 1, 0, 0, 0, 0, 1, 1, 0],\n",
              " [0, 0, 1, 1, 0, 0, 1, 1, 1, 0, 0, 0, 1]]"
            ]
          },
          "metadata": {},
          "execution_count": 69
        }
      ],
      "source": [
        "binary_population"
      ]
    },
    {
      "cell_type": "code",
      "execution_count": 70,
      "metadata": {
        "id": "h2i4xHU1g1GM"
      },
      "outputs": [],
      "source": [
        "feature_weights_0 = [0.00059435, 0.01919768, 0.05873248, -0.02695521736796405]\n",
        "feature_weights_1 = [-0.00303212, 0.02074924, 0.07094721, -0.05955500979744721]\n",
        "feature_weights_2 = [-0.00607127, 0.02527233, 0.0790592, -0.11719479853351966]\n",
        "feature_weights_3 = [-0.00630675, 0.02912954, 0.0811169, -0.1601507238663965]\n",
        "feature_weights_4 = [-0.0027939, 0.02795119, 0.07740094, -0.12095795716822455]\n",
        "feature_weights_5 = [0.00404156, 0.02623495, 0.07188201, -0.020223479611829576]"
      ]
    },
    {
      "cell_type": "code",
      "execution_count": 71,
      "metadata": {
        "id": "tbMVJh9v2lz1"
      },
      "outputs": [],
      "source": [
        "def get_feature_weights(des_num):\n",
        "    feature_weights_list = [feature_weights_0, feature_weights_1, feature_weights_2, feature_weights_3, feature_weights_4, feature_weights_5]\n",
        "    return feature_weights_list[des_num]"
      ]
    },
    {
      "cell_type": "code",
      "execution_count": 72,
      "metadata": {
        "id": "SbDFpWSe2lz1"
      },
      "outputs": [],
      "source": [
        "def generate_combinations(pool, comb_no):\n",
        "    all_combinations = list(combinations(pool.values(), comb_no))\n",
        "    return all_combinations\n"
      ]
    },
    {
      "cell_type": "code",
      "execution_count": 73,
      "metadata": {
        "id": "ayGQ63g72lz2"
      },
      "outputs": [],
      "source": [
        "def combinations_to_dict(all_combinations):\n",
        "    all_dicts = []\n",
        "\n",
        "    for i, comb in enumerate(all_combinations):\n",
        "        temp = {\n",
        "            'combinations' : []\n",
        "        }\n",
        "\n",
        "        for j, genome in enumerate(comb):\n",
        "            temp['combinations'].append(genome)\n",
        "\n",
        "        all_dicts.append(temp)\n",
        "    return all_dicts"
      ]
    },
    {
      "cell_type": "code",
      "execution_count": 74,
      "metadata": {
        "id": "4QdsB9QX2lz2"
      },
      "outputs": [],
      "source": [
        "def calculate_pool_metrics(all_dicts):\n",
        "\n",
        "    for comb in all_dicts:\n",
        "        total_hours = 0\n",
        "        total_score = 0\n",
        "        mean_score = 0\n",
        "        min_hours = 10\n",
        "        max_hours = 0\n",
        "        hour_diff = 10\n",
        "\n",
        "        for genome in comb['combinations']:\n",
        "            total_hours += genome['hours']\n",
        "            total_score += genome['score']\n",
        "            min_hours = genome['hours'] if genome['hours'] < min_hours else min_hours\n",
        "            max_hours = genome['hours'] if genome['hours'] > max_hours else max_hours\n",
        "\n",
        "        mean_score = total_score/10\n",
        "        hour_diff = max_hours - min_hours\n",
        "\n",
        "        comb['diff'] = hour_diff\n",
        "        comb['mean_score'] = mean_score\n",
        "        comb['total_hours'] = total_hours\n",
        "\n",
        "    return all_dicts"
      ]
    },
    {
      "cell_type": "code",
      "execution_count": 75,
      "metadata": {
        "id": "WfMhksuZ2lz2"
      },
      "outputs": [],
      "source": [
        "def filter_combinations_with_hours(combinations, no_of_hours):\n",
        "    filtered_combinations = []\n",
        "    no_of_hours_matched = False\n",
        "\n",
        "    for pool in combinations:\n",
        "        if pool['total_hours'] == no_of_hours:\n",
        "            filtered_combinations.append(pool)\n",
        "\n",
        "    # if len(filtered_combinations) == 0:\n",
        "    #     for pool in combinations:\n",
        "    #         if (pool['total_hours'] <= no_of_hours + 10) and (pool['total_hours'] >= no_of_hours - 10):\n",
        "    #             filtered_combinations.append(pool)\n",
        "\n",
        "\n",
        "    return filtered_combinations"
      ]
    },
    {
      "cell_type": "code",
      "execution_count": 76,
      "metadata": {
        "id": "jQNsWAw82lz2"
      },
      "outputs": [],
      "source": [
        "def sort_combinations_by_score_and_diff(combinations):\n",
        "    return sorted(combinations, key=lambda x: (x['diff']/x['mean_score']), reverse=True)"
      ]
    },
    {
      "cell_type": "code",
      "execution_count": 77,
      "metadata": {
        "id": "ECCJbijM2lz2"
      },
      "outputs": [],
      "source": [
        "def select_final_pool(combinations):\n",
        "    return combinations[0]"
      ]
    },
    {
      "cell_type": "code",
      "execution_count": 78,
      "metadata": {
        "id": "fCPCZmBt2lz2"
      },
      "outputs": [],
      "source": [
        "def convert_to_dict(unfiltered_pool_with_scores):\n",
        "    pool_dict_list = {}\n",
        "\n",
        "    for index, i in enumerate(unfiltered_pool_with_scores):\n",
        "        temp = {}\n",
        "        temp['wfh'] = i[0]\n",
        "        temp['hours'] = i[1]\n",
        "        temp['fatigue'] = i[2]\n",
        "        temp['score'] = i[3]\n",
        "        pool_dict_list[index] = temp\n",
        "\n",
        "    return pool_dict_list"
      ]
    },
    {
      "cell_type": "code",
      "execution_count": 79,
      "metadata": {
        "id": "ca3Ive7I2lz3"
      },
      "outputs": [],
      "source": [
        "def pop_dict_to_list(pop_dict):\n",
        "    pop_list = []\n",
        "    for dict in pop_dict['combinations']:\n",
        "        temp = []\n",
        "        temp.append(dict['wfh'] if dict['wfh'] == 1 else 0)\n",
        "        temp.append(dict['hours'])\n",
        "        temp.append(dict['fatigue'])\n",
        "        pop_list.append(temp)\n",
        "\n",
        "    return pop_list"
      ]
    },
    {
      "cell_type": "code",
      "source": [
        "def cal_pop_resource_distribution(population, diff_threshold):\n",
        "  genome_diff_exceeds = True\n",
        "\n",
        "  for genome in population:\n",
        "    if genome[\"diff\"] > diff_threshold:\n",
        "      genome_diff_exceeds = False\n",
        "\n",
        "  return genome_diff_exceeds"
      ],
      "metadata": {
        "id": "kaSs_VtfxBPF"
      },
      "execution_count": 80,
      "outputs": []
    },
    {
      "cell_type": "code",
      "execution_count": 81,
      "metadata": {
        "id": "uYsx-Cl72lz3"
      },
      "outputs": [],
      "source": [
        "def runner_func(designation_no, no_of_parent_samples, no_crossover_points, no_mutation_points, no_crossover_offsprings, no_generations, diff_threshold):\n",
        "    offspring_pool_size = no_of_parent_samples\n",
        "    mating_pool_size = no_of_parent_samples / 2\n",
        "\n",
        "    parent_population = select_designation(designation_no, no_of_parent_samples)\n",
        "    # print(parent_population)\n",
        "    sum_hours = sum([x[1] for x in parent_population])\n",
        "    # print(\"sum hours\", sum_hours)\n",
        "    population_weights = get_feature_weights(designation_no)\n",
        "    # print(population_weights)\n",
        "\n",
        "    for i in range(no_generations):\n",
        "\n",
        "        found_offspring_pool = False\n",
        "\n",
        "        while found_offspring_pool == False:\n",
        "\n",
        "            found_offspring_pool = False\n",
        "            binary_representation = pop_to_binary(parent_population)\n",
        "            parent_population_scores = cal_fitness_score(population_weights, binary_representation)\n",
        "            # if i == 0:\n",
        "            #     print(parent_population_scores)\n",
        "            mating_pool, mating_pool_scores = tournament_selection(binary_representation, parent_population_scores, mating_pool_size)\n",
        "            offspring_pool_crossover = crossover(mating_pool, mating_pool_scores, no_crossover_points, no_crossover_offsprings, population_weights)\n",
        "            offspring_pool_mutation = mutate(mating_pool, no_mutation_points, population_weights)\n",
        "\n",
        "            unfiltered_pool = offspring_pool_crossover + offspring_pool_mutation + mating_pool\n",
        "            unfiltered_pool_scores = cal_fitness_score(population_weights, unfiltered_pool)\n",
        "            unfiltered_pool = pop_to_float(unfiltered_pool)\n",
        "            unfiltered_pool_with_scores = [[*i,j]for i,j in zip(unfiltered_pool, unfiltered_pool_scores)]\n",
        "\n",
        "            pool_dict_list = convert_to_dict(unfiltered_pool_with_scores)\n",
        "\n",
        "\n",
        "            combinations = generate_combinations(pool_dict_list, offspring_pool_size)\n",
        "\n",
        "            combinations_dict = combinations_to_dict(combinations)\n",
        "\n",
        "            combinations_dict_metrics = calculate_pool_metrics(combinations_dict)\n",
        "\n",
        "            filtered_combinations = filter_combinations_with_hours(combinations_dict_metrics, sum_hours)\n",
        "\n",
        "            sorted_combinations = sort_combinations_by_score_and_diff(filtered_combinations)\n",
        "\n",
        "            if cal_pop_resource_distribution(sorted_combinations, diff_threshold) == False:\n",
        "              continue\n",
        "\n",
        "            if len(sorted_combinations) != 0:\n",
        "                final_pool = select_final_pool(sorted_combinations)\n",
        "                found_offspring_pool = True\n",
        "                population_list = pop_dict_to_list(final_pool)\n",
        "                parent_population = np.array(population_list)\n",
        "\n",
        "\n",
        "\n",
        "\n",
        "    total_scores = 0\n",
        "    for i in final_pool['combinations']:\n",
        "      total_scores = total_scores + i['score']\n",
        "\n",
        "    mean_score = total_scores/offspring_pool_size\n",
        "    #print(f\"mean_score: {total_scores/offspring_pool_size}\")\n",
        "\n",
        "    return final_pool['combinations'], mean_score\n",
        "\n",
        "\n",
        "\n",
        "\n",
        "\n"
      ]
    },
    {
      "cell_type": "code",
      "execution_count": 82,
      "metadata": {
        "id": "ze4Xe-Z22lz3"
      },
      "outputs": [],
      "source": [
        "final_pool, mean_score = runner_func(designation_no=3, no_of_parent_samples=10, no_crossover_points=4, no_mutation_points=4, no_crossover_offsprings=5, no_generations=50, diff_threshold=3)"
      ]
    },
    {
      "cell_type": "code",
      "source": [
        "mean_score"
      ],
      "metadata": {
        "id": "jLHT5HFlk68f",
        "colab": {
          "base_uri": "https://localhost:8080/"
        },
        "outputId": "475219ea-5a87-4a91-f30f-1cbbf850e0ee"
      },
      "execution_count": 83,
      "outputs": [
        {
          "output_type": "execute_result",
          "data": {
            "text/plain": [
              "0.3979143393836035"
            ]
          },
          "metadata": {},
          "execution_count": 83
        }
      ]
    },
    {
      "cell_type": "code",
      "source": [
        "final_pool"
      ],
      "metadata": {
        "colab": {
          "base_uri": "https://localhost:8080/"
        },
        "id": "lEazBZlK27PC",
        "outputId": "e61567db-6565-4991-c097-1b43b3456839"
      },
      "execution_count": 84,
      "outputs": [
        {
          "output_type": "execute_result",
          "data": {
            "text/plain": [
              "[{'wfh': -1, 'hours': 6, 'fatigue': 5.8125, 'score': 0.4924252473836035},\n",
              " {'wfh': 1, 'hours': 6, 'fatigue': 4.9375, 'score': 0.40883445988360356},\n",
              " {'wfh': -1, 'hours': 6, 'fatigue': 5.8125, 'score': 0.4924252473836035},\n",
              " {'wfh': 1, 'hours': 5, 'fatigue': 3.375, 'score': 0.2529597636336035},\n",
              " {'wfh': 1, 'hours': 6, 'fatigue': 3.5625, 'score': 0.29729872238360355},\n",
              " {'wfh': 1, 'hours': 6, 'fatigue': 3.8125, 'score': 0.31757794738360356},\n",
              " {'wfh': 1, 'hours': 5, 'fatigue': 4.125, 'score': 0.31379743863360354},\n",
              " {'wfh': 1, 'hours': 6, 'fatigue': 6.9375, 'score': 0.5710682598836035},\n",
              " {'wfh': -1, 'hours': 6, 'fatigue': 4.8125, 'score': 0.41130834738360356},\n",
              " {'wfh': -1, 'hours': 6, 'fatigue': 4.9375, 'score': 0.4214479598836035}]"
            ]
          },
          "metadata": {},
          "execution_count": 84
        }
      ]
    },
    {
      "cell_type": "code",
      "source": [],
      "metadata": {
        "id": "imCKLiQi28HW"
      },
      "execution_count": 84,
      "outputs": []
    }
  ],
  "metadata": {
    "colab": {
      "provenance": []
    },
    "kernelspec": {
      "display_name": "Python 3",
      "name": "python3"
    },
    "language_info": {
      "codemirror_mode": {
        "name": "ipython",
        "version": 3
      },
      "file_extension": ".py",
      "mimetype": "text/x-python",
      "name": "python",
      "nbconvert_exporter": "python",
      "pygments_lexer": "ipython3",
      "version": "3.9.12"
    }
  },
  "nbformat": 4,
  "nbformat_minor": 0
}